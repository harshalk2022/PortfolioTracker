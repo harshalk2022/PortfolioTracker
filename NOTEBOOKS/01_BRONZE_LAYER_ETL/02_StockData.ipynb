{
 "cells": [
  {
   "cell_type": "markdown",
   "metadata": {},
   "source": [
    "## SOURCE TO BRONZE LAYER\n",
    "\n",
    "### Process:\n",
    "\n",
    "> The function fetches daily stock data using the Yahoo Finance API (`yfinance`).\n"
   ]
  },
  {
   "cell_type": "code",
   "execution_count": 1,
   "metadata": {
    "execution": {
     "iopub.execute_input": "2024-10-01T00:59:10.162348Z",
     "iopub.status.busy": "2024-10-01T00:59:10.162163Z",
     "iopub.status.idle": "2024-10-01T00:59:10.636561Z",
     "shell.execute_reply": "2024-10-01T00:59:10.636005Z"
    }
   },
   "outputs": [],
   "source": [
    "# Import necessary libraries\n",
    "import pandas as pd\n",
    "from datetime import timedelta\n",
    "import yfinance as yf\n",
    "from requests import Session\n",
    "from pyrate_limiter import Limiter, Duration, RequestRate\n",
    "from requests_cache import CacheMixin, SQLiteCache\n",
    "from requests_ratelimiter import LimiterMixin, MemoryQueueBucket\n",
    "from ETLTools import DateTimeUtil, GlobalPath"
   ]
  },
  {
   "cell_type": "code",
   "execution_count": 2,
   "metadata": {
    "execution": {
     "iopub.execute_input": "2024-10-01T00:59:10.638619Z",
     "iopub.status.busy": "2024-10-01T00:59:10.638357Z",
     "iopub.status.idle": "2024-10-01T00:59:10.773477Z",
     "shell.execute_reply": "2024-10-01T00:59:10.772939Z"
    }
   },
   "outputs": [],
   "source": [
    "# Importing Common Utility Funcation\n",
    "%run ../COMMON/common_utility.ipynb"
   ]
  },
  {
   "cell_type": "code",
   "execution_count": 3,
   "metadata": {
    "execution": {
     "iopub.execute_input": "2024-10-01T00:59:10.775293Z",
     "iopub.status.busy": "2024-10-01T00:59:10.775114Z",
     "iopub.status.idle": "2024-10-01T00:59:10.778556Z",
     "shell.execute_reply": "2024-10-01T00:59:10.777995Z"
    }
   },
   "outputs": [],
   "source": [
    "# Define Constants file paths\n",
    "HOLDINGS_HISTORY_PATH = GlobalPath(\n",
    "    \"DATA/SOURCE/Holdings/HoldingsHistory_data.csv\"\n",
    ")\n",
    "STOCKDATA_BRONZE_LAYER_PATH = GlobalPath(\"DATA/BRONZE/StockData\")"
   ]
  },
  {
   "cell_type": "code",
   "execution_count": 4,
   "metadata": {
    "execution": {
     "iopub.execute_input": "2024-10-01T00:59:10.780619Z",
     "iopub.status.busy": "2024-10-01T00:59:10.780145Z",
     "iopub.status.idle": "2024-10-01T00:59:10.790725Z",
     "shell.execute_reply": "2024-10-01T00:59:10.790188Z"
    }
   },
   "outputs": [],
   "source": [
    "# Setting cache location for yfinance\n",
    "yf.set_tz_cache_location(\".cache\")\n",
    "\n",
    "\n",
    "# Rate limiting setup\n",
    "class CachedLimiterSession(CacheMixin, LimiterMixin, Session):\n",
    "    pass\n",
    "\n",
    "\n",
    "history_rate = RequestRate(1, Duration.SECOND * 2)\n",
    "limiter = Limiter(history_rate)\n",
    "session = CachedLimiterSession(\n",
    "    limiter=limiter,\n",
    "    bucket_class=MemoryQueueBucket,\n",
    "    backend=SQLiteCache(\".cache/session\", expire_after=timedelta(hours=1)),\n",
    ")"
   ]
  },
  {
   "cell_type": "code",
   "execution_count": 5,
   "metadata": {
    "execution": {
     "iopub.execute_input": "2024-10-01T00:59:10.792652Z",
     "iopub.status.busy": "2024-10-01T00:59:10.792347Z",
     "iopub.status.idle": "2024-10-01T00:59:10.796101Z",
     "shell.execute_reply": "2024-10-01T00:59:10.795489Z"
    }
   },
   "outputs": [],
   "source": [
    "def process_file(stock_ticker, date, output_file):\n",
    "    \"\"\"Fetch historical stock data and save it to a CSV file.\"\"\"\n",
    "    df = stock_ticker.history(\n",
    "        start=date.start_date,\n",
    "        end=min(date.end_date, DateTimeUtil.today()),\n",
    "        interval=\"1d\",\n",
    "        actions=True,\n",
    "        rounding=True,\n",
    "    )\n",
    "    if df.empty:\n",
    "        raise Exception(\n",
    "            f\"No data fetched for : from {date.start_date} to {date.end_date}\"\n",
    "        )\n",
    "    df = df.reset_index()\n",
    "    df = replace_punctuation_from_columns(df)\n",
    "    df = fix_duplicate_column_names(df)\n",
    "    df = df.round(2)\n",
    "    df.to_csv(output_file, index=False)\n",
    "    print(f\"Data processed and saved to: {output_file}\")"
   ]
  },
  {
   "cell_type": "code",
   "execution_count": 6,
   "metadata": {
    "execution": {
     "iopub.execute_input": "2024-10-01T00:59:10.797802Z",
     "iopub.status.busy": "2024-10-01T00:59:10.797627Z",
     "iopub.status.idle": "2024-10-01T00:59:10.802020Z",
     "shell.execute_reply": "2024-10-01T00:59:10.801564Z"
    }
   },
   "outputs": [],
   "source": [
    "# Dictionary for stock ticker overrides\n",
    "OVERWRITE_TICKERS = {\n",
    "    \"AWL\": \"AWL.NS\",\n",
    "    \"BANKBARODA\": \"BANKBARODA.NS\",\n",
    "    \"BCG\": \"BCG.NS\",\n",
    "    \"CAMPUS\": \"CAMPUS.NS\",\n",
    "    \"CRESSAN\": \"CRESSAN.BO\",\n",
    "    \"CTL\": \"CTL.BO\",\n",
    "    \"DATAPATTNS\": \"DATAPATTNS.NS\",\n",
    "    \"DEEPAKNTR\": \"DEEPAKNTR.NS\",\n",
    "    \"FCSSOFT\": \"FCSSOFT.NS\",\n",
    "    \"GITARENEW\": \"GITARENEW.BO\",\n",
    "    \"GRAVITA\": \"GRAVITA.NS\",\n",
    "    \"GREENPOWER\": \"GREENPOWER.NS\",\n",
    "    \"GREENPOWER_RE\": \"GREENPOWER.NS\",\n",
    "    \"HFCL\": \"HFCL.NS\",\n",
    "    \"IDFCFIRSTB\": \"IDFCFIRSTB.NS\",\n",
    "    \"JPPOWER\": \"JPPOWER.NS\",\n",
    "    \"KNRCON\": \"KNRCON.NS\",\n",
    "    \"KPEL\": \"KPEL.BO\",\n",
    "    \"KPITTECH\": \"KPITTECH.NS\",\n",
    "    \"LLOYDSENGG\": \"LLOYDSENGG.NS\",\n",
    "    \"PNB\": \"PNB.NS\",\n",
    "    \"PRAKASHSTL\": \"PRAKASHSTL.NS\",\n",
    "    \"RAGHUSYN\": \"RAGHUSYN.BO\",\n",
    "    \"RPOWER\": \"RPOWER.NS\",\n",
    "    \"RTNINDIA\": \"RTNINDIA.NS\",\n",
    "    \"RTNPOWER\": \"RTNPOWER.NS\",\n",
    "    \"SINTEX\": \"SINTEX.NS\",\n",
    "    \"SUZLON\": \"SUZLON.NS\",\n",
    "    \"SWORDEDGE\": \"SWORDEDGE.BO\",\n",
    "    \"TATAMOTORS\": \"TATAMOTORS.NS\",\n",
    "    \"TATAPOWER\": \"TATAPOWER.NS\",\n",
    "    \"TRIDENT\": \"TRIDENT.NS\",\n",
    "    \"TTML\": \"TTML.NS\",\n",
    "    \"URJA\": \"URJA.NS\",\n",
    "    \"VIJIFIN\": \"VIJIFIN.NS\",\n",
    "    \"VIKASLIFE\": \"VIKASLIFE.NS\",\n",
    "    \"VIRTUALG\": \"VIRTUALG.BO\",\n",
    "    \"VISESHINFO\": \"VISESHINFO.NS\",\n",
    "    \"WIPRO\": \"WIPRO.NS\",\n",
    "    \"YAMNINV\": \"YAMNINV.BO\",\n",
    "    \"ZOMATO\": \"ZOMATO.NS\",\n",
    "    \"BAJAJHFL\": \"BAJAJHFL.NS\",\n",
    "    \"BHAGERIA\": \"BHAGERIA.NS\",\n",
    "    \"BPCL\": \"BPCL.NS\",\n",
    "    \"GOLDBEES\": \"GOLDBEES.NS\",\n",
    "    \"HERANBA\": \"HERANBA.NS\",\n",
    "    \"IDEA\": \"IDEA.NS\",\n",
    "    \"INFY\": \"INFY.NS\",\n",
    "    \"IRCTC\": \"IRCTC.NS\",\n",
    "    \"LICI\": \"LICI.NS\",\n",
    "    \"MIRAE_ASSET_ELSS_TAX_SAVER_FUND_DIRECT_PLAN_GROWTH\": \"0P00017844.BO\",\n",
    "    \"NIFTYBEES\": \"NIFTYBEES.NS\",\n",
    "    \"SBIN\": \"SBIN.NS\",\n",
    "    \"SBI_LONG_TERM_EQUITY_FUND_DIRECT_PLAN_GROWTH\": \"0P0000XVL9.BO\",\n",
    "    \"TATACHEM\": \"TATACHEM.NS\",\n",
    "    \"VOLTAS\": \"VOLTAS.NS\",\n",
    "    \"YESBANK\": \"YESBANK.NS\",\n",
    "}"
   ]
  },
  {
   "cell_type": "code",
   "execution_count": 7,
   "metadata": {
    "execution": {
     "iopub.execute_input": "2024-10-01T00:59:10.803889Z",
     "iopub.status.busy": "2024-10-01T00:59:10.803467Z",
     "iopub.status.idle": "2024-10-01T00:59:10.811885Z",
     "shell.execute_reply": "2024-10-01T00:59:10.811331Z"
    }
   },
   "outputs": [
    {
     "name": "stdout",
     "output_type": "stream",
     "text": [
      "Loaded data from: /home/runner/work/PortfolioTracker/PortfolioTracker/DATA/SOURCE/Holdings/HoldingsHistory_data.csv\n"
     ]
    }
   ],
   "source": [
    "# Load holdings data from CSV\n",
    "df_holdings_history = pd.read_csv(HOLDINGS_HISTORY_PATH)\n",
    "df_holdings_history[\"min_date\"] = pd.to_datetime(\n",
    "    df_holdings_history[\"min_date\"]\n",
    ")\n",
    "df_holdings_history[\"max_date\"] = pd.to_datetime(\n",
    "    df_holdings_history[\"max_date\"]\n",
    ")\n",
    "print(f\"Loaded data from: {HOLDINGS_HISTORY_PATH}\")"
   ]
  },
  {
   "cell_type": "code",
   "execution_count": 8,
   "metadata": {
    "execution": {
     "iopub.execute_input": "2024-10-01T00:59:10.848171Z",
     "iopub.status.busy": "2024-10-01T00:59:10.847988Z",
     "iopub.status.idle": "2024-10-01T00:59:13.031924Z",
     "shell.execute_reply": "2024-10-01T00:59:13.031354Z"
    }
   },
   "outputs": [
    {
     "name": "stdout",
     "output_type": "stream",
     "text": [
      "\n",
      "Processing data for symbol AWL:\n",
      "\n",
      "Processing data for symbol BANKBARODA:\n",
      "\n",
      "Processing data for symbol BCG:\n",
      "\n",
      "Processing data for symbol CAMPUS:\n",
      "\n",
      "Processing data for symbol CRESSAN:\n",
      "\n",
      "Processing data for symbol CTL:\n",
      "\n",
      "Processing data for symbol DATAPATTNS:\n",
      "\n",
      "Processing data for symbol DEEPAKNTR:\n",
      "\n",
      "Processing data for symbol FCSSOFT:\n",
      "\n",
      "Processing data for symbol GITARENEW:\n",
      "\n",
      "Processing data for symbol GRAVITA:\n",
      "\n",
      "Processing data for symbol GREENPOWER:\n",
      "\n",
      "Processing data for symbol GREENPOWER_RE:\n",
      "\n",
      "Processing data for symbol HFCL:\n",
      "\n",
      "Processing data for symbol IDFCFIRSTB:\n",
      "\n",
      "Processing data for symbol JPPOWER:\n",
      "\n",
      "Processing data for symbol KNRCON:\n",
      "\n",
      "Processing data for symbol KPEL:\n",
      "\n",
      "Processing data for symbol KPITTECH:\n",
      "\n",
      "Processing data for symbol LLOYDSENGG:\n",
      "\n",
      "Processing data for symbol PNB:\n",
      "\n",
      "Processing data for symbol PRAKASHSTL:\n",
      "\n",
      "Processing data for symbol RAGHUSYN:\n",
      "\n",
      "Processing data for symbol RPOWER:\n",
      "\n",
      "Processing data for symbol RTNINDIA:\n",
      "\n",
      "Processing data for symbol RTNPOWER:\n",
      "\n",
      "Processing data for symbol SINTEX:\n",
      "\n",
      "Processing data for symbol SUZLON:\n",
      "\n",
      "Processing data for symbol SWORDEDGE:\n",
      "\n",
      "Processing data for symbol TATAMOTORS:\n",
      "\n",
      "Processing data for symbol TATAPOWER:\n",
      "\n",
      "Processing data for symbol TRIDENT:\n",
      "\n",
      "Processing data for symbol TTML:\n",
      "\n",
      "Processing data for symbol URJA:\n",
      "\n",
      "Processing data for symbol VIJIFIN:\n",
      "\n",
      "Processing data for symbol VIKASLIFE:\n",
      "\n",
      "Processing data for symbol VIRTUALG:\n"
     ]
    },
    {
     "name": "stderr",
     "output_type": "stream",
     "text": [
      "$VIRTUALG.BO: possibly delisted; no price data found  (1d 2022-08-01 00:00:00 -> 2022-08-31 00:00:00)\n"
     ]
    },
    {
     "name": "stdout",
     "output_type": "stream",
     "text": [
      "Error processing VIRTUALG:\n",
      "No data fetched for : from 2022-08-01 00:00:00 to 2022-08-31 00:00:00\n",
      "\n",
      "Processing data for symbol VISESHINFO:\n",
      "\n",
      "Processing data for symbol WIPRO:\n",
      "\n",
      "Processing data for symbol YAMNINV:\n",
      "\n",
      "Processing data for symbol ZOMATO:\n"
     ]
    }
   ],
   "source": [
    "# Fetch stock data and process it.\n",
    "for _, row in df_holdings_history.iterrows():\n",
    "    print(f\"\\nProcessing data for symbol {row['symbol']}:\")\n",
    "    try:\n",
    "        stock_ticker = yf.Ticker(\n",
    "            OVERWRITE_TICKERS.get(row[\"symbol\"], row[\"isin\"]),\n",
    "            session=session,\n",
    "        )\n",
    "        date_list = generate_date_list(row[\"min_date\"].to_pydatetime(), row[\"max_date\"].to_pydatetime())\n",
    "        for date in date_list:\n",
    "            output_file = STOCKDATA_BRONZE_LAYER_PATH.joinpath(f\"{row['symbol']}_{date.year:04d}_{date.month:02d}.csv\")\n",
    "            if output_file.exists() and date.month_difference(DateTimeUtil.today()) >= 1:\n",
    "                continue\n",
    "            process_file(stock_ticker, date, output_file)\n",
    "    except Exception as e:\n",
    "        print(f\"Error processing {row['symbol']}:\\n{e}\")"
   ]
  }
 ],
 "metadata": {
  "kernelspec": {
   "display_name": "Python 3",
   "language": "python",
   "name": "python3"
  },
  "language_debug": {
   "codemirror_mode": {
    "name": "ipython",
    "version": 3
   },
   "file_extension": ".py",
   "mimetype": "text/x-python",
   "name": "python",
   "nbconvert_exporter": "python",
   "pygments_lexer": "ipython3",
   "version": "3.11.4"
  },
  "language_info": {
   "codemirror_mode": {
    "name": "ipython",
    "version": 3
   },
   "file_extension": ".py",
   "mimetype": "text/x-python",
   "name": "python",
   "nbconvert_exporter": "python",
   "pygments_lexer": "ipython3",
   "version": "3.12.6"
  }
 },
 "nbformat": 4,
 "nbformat_minor": 4
}
